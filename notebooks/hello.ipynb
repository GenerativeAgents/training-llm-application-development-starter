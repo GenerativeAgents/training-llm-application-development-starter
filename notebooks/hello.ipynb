{
 "cells": [
  {
   "cell_type": "markdown",
   "metadata": {},
   "source": [
    "# 動作確認\n"
   ]
  },
  {
   "cell_type": "code",
   "execution_count": null,
   "metadata": {
    "execution": {
     "iopub.execute_input": "2024-09-22T02:15:25.007439Z",
     "iopub.status.busy": "2024-09-22T02:15:25.006560Z",
     "iopub.status.idle": "2024-09-22T02:15:25.327791Z",
     "shell.execute_reply": "2024-09-22T02:15:25.326086Z"
    }
   },
   "outputs": [],
   "source": [
    "!python --version"
   ]
  },
  {
   "cell_type": "code",
   "execution_count": null,
   "metadata": {
    "execution": {
     "iopub.execute_input": "2024-09-22T02:15:25.334333Z",
     "iopub.status.busy": "2024-09-22T02:15:25.333441Z",
     "iopub.status.idle": "2024-09-22T02:15:25.345971Z",
     "shell.execute_reply": "2024-09-22T02:15:25.343551Z"
    }
   },
   "outputs": [],
   "source": [
    "print(\"Hello Jupyter!\")"
   ]
  }
 ],
 "metadata": {
  "kernelspec": {
   "display_name": "Python 3 (ipykernel)",
   "language": "python",
   "name": "python3"
  },
  "language_info": {
   "codemirror_mode": {
    "name": "ipython",
    "version": 3
   },
   "file_extension": ".py",
   "mimetype": "text/x-python",
   "name": "python",
   "nbconvert_exporter": "python",
   "pygments_lexer": "ipython3",
   "version": "3.10.12"
  }
 },
 "nbformat": 4,
 "nbformat_minor": 4
}
